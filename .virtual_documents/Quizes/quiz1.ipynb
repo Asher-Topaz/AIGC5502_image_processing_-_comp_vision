import matplotlib.pyplot as plt
import numpy as np
from skimage.io import imread
from skimage import data
from skimage.color import rgb2gray


def show_image(image, title='Image', cmap_type=None):
    plt.imshow(image, cmap=cmap_type)
    plt.title(title)
    plt.axis('off')
    plt.show()




original = data.astronaut()
grayscale = rgb2gray(original)

show_image(original, 'Original Image')
show_image(grayscale, 'Grayscale')




red_channel = original[:, :, 0]
green_channel = original[:, :, 1]
blue_channel = original[:, :, 2]


show_image(red_channel, 'Red Channel', cmap_type='gray')

show_image(green_channel, 'Green Channel', cmap_type='gray')

    
show_image(blue_channel, 'Blue Channel', cmap_type='gray')



plt.hist(red_channel.ravel(), bins=256)



plt.hist(blue_channel.ravel(), bins=256)




plt.hist(green_channel.ravel(), bins=256)


thresh = 0.5

binary = grayscale > thresh

show_image(original, 'Original')
show_image(binary,'Thresholded')









