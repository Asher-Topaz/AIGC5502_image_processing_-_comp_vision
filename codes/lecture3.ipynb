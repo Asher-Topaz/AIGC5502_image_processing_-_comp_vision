{
 "cells": [
  {
   "cell_type": "code",
   "execution_count": 10,
   "metadata": {},
   "outputs": [],
   "source": [
    "import numpy as np\n",
    "import matplotlib \n",
    "matplotlib.use('Tkagg')\n",
    "import ipympl\n",
    "import imageio.v3 as iio\n",
    "import skimage.color\n",
    "import skimage.filters\n",
    "import skimage.measure"
   ]
  },
  {
   "cell_type": "code",
   "execution_count": 11,
   "metadata": {},
   "outputs": [],
   "source": [
    "def connected_components(filename, sigma=1.0, t=0.5, connectivity=2):\n",
    "    #load the image\n",
    "    image = iio.imread(filename)\n",
    "    #convert the image to grayscale\n",
    "    \n",
    "    gray_image = skimage.color.rgb2gray(image)# denoise the image with a Gaussian filter\n",
    "    blurred_image = skimage.filters.gaussian(gray_image, sigma=sigma)\n",
    "    # mask the image according to threshold\n",
    "\n",
    "    binary_mask = blurred_image < t\n",
    "    # perform connected component analysis\n",
    "    labeled_image, count = skimage.measure.label(binary_mask,connectivity= connectivity,)\n",
    "    return labeled_image,count\n",
    "                                                 \n"
   ]
  },
  {
   "cell_type": "code",
   "execution_count": 12,
   "metadata": {},
   "outputs": [
    {
     "ename": "SyntaxError",
     "evalue": "not identified by this driver (<string>)",
     "output_type": "error",
     "traceback": [
      "Traceback \u001b[0;36m(most recent call last)\u001b[0m:\n",
      "\u001b[0m  File \u001b[1;32m~/anaconda3/lib/python3.11/site-packages/IPython/core/interactiveshell.py:3553\u001b[0m in \u001b[1;35mrun_code\u001b[0m\n    exec(code_obj, self.user_global_ns, self.user_ns)\u001b[0m\n",
      "\u001b[0m  Cell \u001b[1;32mIn[12], line 1\u001b[0m\n    labeled_image, count =connected_components(filename=\"shapes-01.jpg\", sigma=2.0,t=0.9, connectivity=2)\u001b[0m\n",
      "\u001b[0m  Cell \u001b[1;32mIn[11], line 3\u001b[0m in \u001b[1;35mconnected_components\u001b[0m\n    image = iio.imread(filename)\u001b[0m\n",
      "\u001b[0m  File \u001b[1;32m~/anaconda3/lib/python3.11/site-packages/imageio/v3.py:54\u001b[0m in \u001b[1;35mimread\u001b[0m\n    return np.asarray(img_file.read(**call_kwargs))\u001b[0m\n",
      "\u001b[0m  File \u001b[1;32m~/anaconda3/lib/python3.11/site-packages/imageio/core/legacy_plugin_wrapper.py:147\u001b[0m in \u001b[1;35mread\u001b[0m\n    reader = self.legacy_get_reader(**kwargs)\u001b[0m\n",
      "\u001b[0m  File \u001b[1;32m~/anaconda3/lib/python3.11/site-packages/imageio/core/legacy_plugin_wrapper.py:116\u001b[0m in \u001b[1;35mlegacy_get_reader\u001b[0m\n    return self._format.get_reader(self._request)\u001b[0m\n",
      "\u001b[0m  File \u001b[1;32m~/anaconda3/lib/python3.11/site-packages/imageio/core/format.py:221\u001b[0m in \u001b[1;35mget_reader\u001b[0m\n    return self.Reader(self, request)\u001b[0m\n",
      "\u001b[0m  File \u001b[1;32m~/anaconda3/lib/python3.11/site-packages/imageio/core/format.py:312\u001b[0m in \u001b[1;35m__init__\u001b[0m\n    self._open(**self.request.kwargs.copy())\u001b[0m\n",
      "\u001b[0m  File \u001b[1;32m~/anaconda3/lib/python3.11/site-packages/imageio/plugins/pillow_legacy.py:464\u001b[0m in \u001b[1;35m_open\u001b[0m\n    return PillowFormat.Reader._open(self, pilmode=pilmode, as_gray=as_gray)\u001b[0m\n",
      "\u001b[0m  File \u001b[1;32m~/anaconda3/lib/python3.11/site-packages/imageio/plugins/pillow_legacy.py:287\u001b[0m in \u001b[1;35m_open\u001b[0m\n    self._im = factory(self._fp, \"\")\u001b[0m\n",
      "\u001b[0m  File \u001b[1;32m~/anaconda3/lib/python3.11/site-packages/PIL/JpegImagePlugin.py:840\u001b[0m in \u001b[1;35mjpeg_factory\u001b[0m\n    im = JpegImageFile(fp, filename)\u001b[0m\n",
      "\u001b[0;36m  File \u001b[0;32m~/anaconda3/lib/python3.11/site-packages/PIL/ImageFile.py:149\u001b[0;36m in \u001b[0;35m__init__\u001b[0;36m\n\u001b[0;31m    raise SyntaxError(msg)\u001b[0;36m\n",
      "\u001b[0;36m  File \u001b[0;32m<string>\u001b[0;36m\u001b[0m\n\u001b[0;31mSyntaxError\u001b[0m\u001b[0;31m:\u001b[0m not identified by this driver\n"
     ]
    }
   ],
   "source": [
    "labeled_image, count =connected_components(filename=\"shapes-01.jpg\", sigma=2.0,t=0.9, connectivity=2)\n",
    "fig, ax = plt.subplots()\n",
    "plt.imshow(labeled_image)\n",
    "plt.axis(\"off\");\n",
    "plt.show()"
   ]
  },
  {
   "cell_type": "code",
   "execution_count": null,
   "metadata": {},
   "outputs": [],
   "source": []
  },
  {
   "cell_type": "code",
   "execution_count": null,
   "metadata": {},
   "outputs": [],
   "source": []
  },
  {
   "cell_type": "code",
   "execution_count": null,
   "metadata": {},
   "outputs": [],
   "source": []
  }
 ],
 "metadata": {
  "kernelspec": {
   "display_name": "base",
   "language": "python",
   "name": "python3"
  },
  "language_info": {
   "codemirror_mode": {
    "name": "ipython",
    "version": 3
   },
   "file_extension": ".py",
   "mimetype": "text/x-python",
   "name": "python",
   "nbconvert_exporter": "python",
   "pygments_lexer": "ipython3",
   "version": "3.10.14"
  }
 },
 "nbformat": 4,
 "nbformat_minor": 2
}
